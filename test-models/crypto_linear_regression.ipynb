{
  "nbformat": 4,
  "nbformat_minor": 0,
  "metadata": {
    "colab": {
      "name": "crypto_linear_regression.ipynb",
      "provenance": []
    },
    "kernelspec": {
      "name": "python3",
      "display_name": "Python 3"
    },
    "language_info": {
      "name": "python"
    }
  },
  "cells": [
    {
      "cell_type": "code",
      "execution_count": null,
      "metadata": {
        "id": "orN29ID0KHx2"
      },
      "outputs": [],
      "source": [
        "import pandas as pd \n",
        "from datetime import datetime\n",
        "import numpy as np \n",
        "from sklearn.linear_model import LinearRegression\n",
        "import matplotlib.pyplot as plt"
      ]
    },
    {
      "cell_type": "code",
      "source": [
        "file1 =pd.read_csv(\"/content/sample_data/BTCUSDC-1d-2021-10.csv\", \n",
        "                 names=['Open time',\n",
        "                        'Open',\n",
        "                        'High',\n",
        "                        'Low',\n",
        "                        'Close',\n",
        "                        'Volume',\n",
        "                        'Close time',\n",
        "                        'Quote asset volume',\n",
        "                        'Number of trades',\n",
        "                        'Taker buy base asset volume',\n",
        "                        'Taker buy quote asset volume',\n",
        "                        'Ignore']\n",
        "                ) "
      ],
      "metadata": {
        "id": "CjeUhed6NSa4"
      },
      "execution_count": null,
      "outputs": []
    },
    {
      "cell_type": "code",
      "source": [
        "file2 =pd.read_csv(\"/content/sample_data/BTCUSDC-1d-2021-11.csv\", \n",
        "                 names=['Open time',\n",
        "                        'Open',\n",
        "                        'High',\n",
        "                        'Low',\n",
        "                        'Close',\n",
        "                        'Volume',\n",
        "                        'Close time',\n",
        "                        'Quote asset volume',\n",
        "                        'Number of trades',\n",
        "                        'Taker buy base asset volume',\n",
        "                        'Taker buy quote asset volume',\n",
        "                        'Ignore']\n",
        "                ) "
      ],
      "metadata": {
        "id": "_7rkmSEnNS_H"
      },
      "execution_count": null,
      "outputs": []
    },
    {
      "cell_type": "code",
      "source": [
        "file3 =pd.read_csv(\"/content/sample_data/BTCUSDC-1d-2021-12.csv\", \n",
        "                 names=['Open time',\n",
        "                        'Open',\n",
        "                        'High',\n",
        "                        'Low',\n",
        "                        'Close',\n",
        "                        'Volume',\n",
        "                        'Close time',\n",
        "                        'Quote asset volume',\n",
        "                        'Number of trades',\n",
        "                        'Taker buy base asset volume',\n",
        "                        'Taker buy quote asset volume',\n",
        "                        'Ignore']\n",
        "                ) "
      ],
      "metadata": {
        "id": "Xw4W-8xAShBp"
      },
      "execution_count": null,
      "outputs": []
    },
    {
      "cell_type": "code",
      "source": [
        "file1['Open time'] = pd.to_datetime(file1['Open time'],unit='ms')\n",
        "file2['Open time'] = pd.to_datetime(file2['Open time'],unit='ms')\n",
        "file3['Open time'] = pd.to_datetime(file3['Open time'],unit='ms')"
      ],
      "metadata": {
        "id": "KgsKCRp-NY0r"
      },
      "execution_count": null,
      "outputs": []
    },
    {
      "cell_type": "code",
      "source": [
        "Data=pd.concat([file1, file2, file3])\n",
        "Data=Data.iloc[:, 0:11]\n",
        "Data.set_index('Open time',inplace=True)\n",
        "df=Data\n"
      ],
      "metadata": {
        "id": "99ONKz-wNdc7"
      },
      "execution_count": null,
      "outputs": []
    },
    {
      "cell_type": "code",
      "source": [
        "df"
      ],
      "metadata": {
        "colab": {
          "base_uri": "https://localhost:8080/",
          "height": 724
        },
        "id": "JdZJ-DIrPPK6",
        "outputId": "39e58f0e-df43-495b-dab7-d39d4cce50c2"
      },
      "execution_count": null,
      "outputs": [
        {
          "output_type": "execute_result",
          "data": {
            "text/html": [
              "\n",
              "  <div id=\"df-c252142e-7648-4e5c-9de0-1f1e15805215\">\n",
              "    <div class=\"colab-df-container\">\n",
              "      <div>\n",
              "<style scoped>\n",
              "    .dataframe tbody tr th:only-of-type {\n",
              "        vertical-align: middle;\n",
              "    }\n",
              "\n",
              "    .dataframe tbody tr th {\n",
              "        vertical-align: top;\n",
              "    }\n",
              "\n",
              "    .dataframe thead th {\n",
              "        text-align: right;\n",
              "    }\n",
              "</style>\n",
              "<table border=\"1\" class=\"dataframe\">\n",
              "  <thead>\n",
              "    <tr style=\"text-align: right;\">\n",
              "      <th></th>\n",
              "      <th>Open</th>\n",
              "      <th>High</th>\n",
              "      <th>Low</th>\n",
              "      <th>Close</th>\n",
              "      <th>Volume</th>\n",
              "      <th>Close time</th>\n",
              "      <th>Quote asset volume</th>\n",
              "      <th>Number of trades</th>\n",
              "      <th>Taker buy base asset volume</th>\n",
              "      <th>Taker buy quote asset volume</th>\n",
              "    </tr>\n",
              "    <tr>\n",
              "      <th>Open time</th>\n",
              "      <th></th>\n",
              "      <th></th>\n",
              "      <th></th>\n",
              "      <th></th>\n",
              "      <th></th>\n",
              "      <th></th>\n",
              "      <th></th>\n",
              "      <th></th>\n",
              "      <th></th>\n",
              "      <th></th>\n",
              "    </tr>\n",
              "  </thead>\n",
              "  <tbody>\n",
              "    <tr>\n",
              "      <th>2021-10-01</th>\n",
              "      <td>43822.89</td>\n",
              "      <td>48486.08</td>\n",
              "      <td>43293.08</td>\n",
              "      <td>48147.38</td>\n",
              "      <td>2616.91387</td>\n",
              "      <td>1633132799999</td>\n",
              "      <td>1.215183e+08</td>\n",
              "      <td>58241</td>\n",
              "      <td>1227.95403</td>\n",
              "      <td>5.704053e+07</td>\n",
              "    </tr>\n",
              "    <tr>\n",
              "      <th>2021-10-02</th>\n",
              "      <td>48181.13</td>\n",
              "      <td>48349.39</td>\n",
              "      <td>47460.89</td>\n",
              "      <td>47672.68</td>\n",
              "      <td>719.57948</td>\n",
              "      <td>1633219199999</td>\n",
              "      <td>3.442800e+07</td>\n",
              "      <td>24797</td>\n",
              "      <td>373.33928</td>\n",
              "      <td>1.786507e+07</td>\n",
              "    </tr>\n",
              "    <tr>\n",
              "      <th>2021-10-03</th>\n",
              "      <td>47662.03</td>\n",
              "      <td>49399.99</td>\n",
              "      <td>47134.57</td>\n",
              "      <td>48220.00</td>\n",
              "      <td>756.67767</td>\n",
              "      <td>1633305599999</td>\n",
              "      <td>3.645663e+07</td>\n",
              "      <td>26588</td>\n",
              "      <td>373.93117</td>\n",
              "      <td>1.802705e+07</td>\n",
              "    </tr>\n",
              "    <tr>\n",
              "      <th>2021-10-04</th>\n",
              "      <td>48214.74</td>\n",
              "      <td>49507.80</td>\n",
              "      <td>46933.60</td>\n",
              "      <td>49247.63</td>\n",
              "      <td>1283.57755</td>\n",
              "      <td>1633391999999</td>\n",
              "      <td>6.206925e+07</td>\n",
              "      <td>38209</td>\n",
              "      <td>635.19243</td>\n",
              "      <td>3.069901e+07</td>\n",
              "    </tr>\n",
              "    <tr>\n",
              "      <th>2021-10-05</th>\n",
              "      <td>49252.59</td>\n",
              "      <td>51921.46</td>\n",
              "      <td>49057.36</td>\n",
              "      <td>51488.94</td>\n",
              "      <td>1382.53304</td>\n",
              "      <td>1633478399999</td>\n",
              "      <td>6.956889e+07</td>\n",
              "      <td>43032</td>\n",
              "      <td>636.13662</td>\n",
              "      <td>3.206130e+07</td>\n",
              "    </tr>\n",
              "    <tr>\n",
              "      <th>...</th>\n",
              "      <td>...</td>\n",
              "      <td>...</td>\n",
              "      <td>...</td>\n",
              "      <td>...</td>\n",
              "      <td>...</td>\n",
              "      <td>...</td>\n",
              "      <td>...</td>\n",
              "      <td>...</td>\n",
              "      <td>...</td>\n",
              "      <td>...</td>\n",
              "    </tr>\n",
              "    <tr>\n",
              "      <th>2021-12-27</th>\n",
              "      <td>50815.82</td>\n",
              "      <td>52195.60</td>\n",
              "      <td>50474.66</td>\n",
              "      <td>50695.95</td>\n",
              "      <td>890.64070</td>\n",
              "      <td>1640649599999</td>\n",
              "      <td>4.556071e+07</td>\n",
              "      <td>27493</td>\n",
              "      <td>413.36053</td>\n",
              "      <td>2.114042e+07</td>\n",
              "    </tr>\n",
              "    <tr>\n",
              "      <th>2021-12-28</th>\n",
              "      <td>50714.51</td>\n",
              "      <td>52000.00</td>\n",
              "      <td>47300.00</td>\n",
              "      <td>47551.60</td>\n",
              "      <td>1561.80985</td>\n",
              "      <td>1640735999999</td>\n",
              "      <td>7.638646e+07</td>\n",
              "      <td>42223</td>\n",
              "      <td>772.33940</td>\n",
              "      <td>3.781816e+07</td>\n",
              "    </tr>\n",
              "    <tr>\n",
              "      <th>2021-12-29</th>\n",
              "      <td>47559.26</td>\n",
              "      <td>48142.01</td>\n",
              "      <td>46049.09</td>\n",
              "      <td>46468.33</td>\n",
              "      <td>1169.16789</td>\n",
              "      <td>1640822399999</td>\n",
              "      <td>5.536942e+07</td>\n",
              "      <td>29742</td>\n",
              "      <td>531.72479</td>\n",
              "      <td>2.515863e+07</td>\n",
              "    </tr>\n",
              "    <tr>\n",
              "      <th>2021-12-30</th>\n",
              "      <td>46472.42</td>\n",
              "      <td>47939.04</td>\n",
              "      <td>45932.45</td>\n",
              "      <td>47135.69</td>\n",
              "      <td>1014.59241</td>\n",
              "      <td>1640908799999</td>\n",
              "      <td>4.781078e+07</td>\n",
              "      <td>29081</td>\n",
              "      <td>469.77508</td>\n",
              "      <td>2.213392e+07</td>\n",
              "    </tr>\n",
              "    <tr>\n",
              "      <th>2021-12-31</th>\n",
              "      <td>47125.88</td>\n",
              "      <td>48586.17</td>\n",
              "      <td>45651.00</td>\n",
              "      <td>46231.04</td>\n",
              "      <td>1739.45844</td>\n",
              "      <td>1640995199999</td>\n",
              "      <td>8.243983e+07</td>\n",
              "      <td>39412</td>\n",
              "      <td>764.14287</td>\n",
              "      <td>3.614181e+07</td>\n",
              "    </tr>\n",
              "  </tbody>\n",
              "</table>\n",
              "<p>92 rows × 10 columns</p>\n",
              "</div>\n",
              "      <button class=\"colab-df-convert\" onclick=\"convertToInteractive('df-c252142e-7648-4e5c-9de0-1f1e15805215')\"\n",
              "              title=\"Convert this dataframe to an interactive table.\"\n",
              "              style=\"display:none;\">\n",
              "        \n",
              "  <svg xmlns=\"http://www.w3.org/2000/svg\" height=\"24px\"viewBox=\"0 0 24 24\"\n",
              "       width=\"24px\">\n",
              "    <path d=\"M0 0h24v24H0V0z\" fill=\"none\"/>\n",
              "    <path d=\"M18.56 5.44l.94 2.06.94-2.06 2.06-.94-2.06-.94-.94-2.06-.94 2.06-2.06.94zm-11 1L8.5 8.5l.94-2.06 2.06-.94-2.06-.94L8.5 2.5l-.94 2.06-2.06.94zm10 10l.94 2.06.94-2.06 2.06-.94-2.06-.94-.94-2.06-.94 2.06-2.06.94z\"/><path d=\"M17.41 7.96l-1.37-1.37c-.4-.4-.92-.59-1.43-.59-.52 0-1.04.2-1.43.59L10.3 9.45l-7.72 7.72c-.78.78-.78 2.05 0 2.83L4 21.41c.39.39.9.59 1.41.59.51 0 1.02-.2 1.41-.59l7.78-7.78 2.81-2.81c.8-.78.8-2.07 0-2.86zM5.41 20L4 18.59l7.72-7.72 1.47 1.35L5.41 20z\"/>\n",
              "  </svg>\n",
              "      </button>\n",
              "      \n",
              "  <style>\n",
              "    .colab-df-container {\n",
              "      display:flex;\n",
              "      flex-wrap:wrap;\n",
              "      gap: 12px;\n",
              "    }\n",
              "\n",
              "    .colab-df-convert {\n",
              "      background-color: #E8F0FE;\n",
              "      border: none;\n",
              "      border-radius: 50%;\n",
              "      cursor: pointer;\n",
              "      display: none;\n",
              "      fill: #1967D2;\n",
              "      height: 32px;\n",
              "      padding: 0 0 0 0;\n",
              "      width: 32px;\n",
              "    }\n",
              "\n",
              "    .colab-df-convert:hover {\n",
              "      background-color: #E2EBFA;\n",
              "      box-shadow: 0px 1px 2px rgba(60, 64, 67, 0.3), 0px 1px 3px 1px rgba(60, 64, 67, 0.15);\n",
              "      fill: #174EA6;\n",
              "    }\n",
              "\n",
              "    [theme=dark] .colab-df-convert {\n",
              "      background-color: #3B4455;\n",
              "      fill: #D2E3FC;\n",
              "    }\n",
              "\n",
              "    [theme=dark] .colab-df-convert:hover {\n",
              "      background-color: #434B5C;\n",
              "      box-shadow: 0px 1px 3px 1px rgba(0, 0, 0, 0.15);\n",
              "      filter: drop-shadow(0px 1px 2px rgba(0, 0, 0, 0.3));\n",
              "      fill: #FFFFFF;\n",
              "    }\n",
              "  </style>\n",
              "\n",
              "      <script>\n",
              "        const buttonEl =\n",
              "          document.querySelector('#df-c252142e-7648-4e5c-9de0-1f1e15805215 button.colab-df-convert');\n",
              "        buttonEl.style.display =\n",
              "          google.colab.kernel.accessAllowed ? 'block' : 'none';\n",
              "\n",
              "        async function convertToInteractive(key) {\n",
              "          const element = document.querySelector('#df-c252142e-7648-4e5c-9de0-1f1e15805215');\n",
              "          const dataTable =\n",
              "            await google.colab.kernel.invokeFunction('convertToInteractive',\n",
              "                                                     [key], {});\n",
              "          if (!dataTable) return;\n",
              "\n",
              "          const docLinkHtml = 'Like what you see? Visit the ' +\n",
              "            '<a target=\"_blank\" href=https://colab.research.google.com/notebooks/data_table.ipynb>data table notebook</a>'\n",
              "            + ' to learn more about interactive tables.';\n",
              "          element.innerHTML = '';\n",
              "          dataTable['output_type'] = 'display_data';\n",
              "          await google.colab.output.renderOutput(dataTable, element);\n",
              "          const docLink = document.createElement('div');\n",
              "          docLink.innerHTML = docLinkHtml;\n",
              "          element.appendChild(docLink);\n",
              "        }\n",
              "      </script>\n",
              "    </div>\n",
              "  </div>\n",
              "  "
            ],
            "text/plain": [
              "                Open  ...  Taker buy quote asset volume\n",
              "Open time             ...                              \n",
              "2021-10-01  43822.89  ...                  5.704053e+07\n",
              "2021-10-02  48181.13  ...                  1.786507e+07\n",
              "2021-10-03  47662.03  ...                  1.802705e+07\n",
              "2021-10-04  48214.74  ...                  3.069901e+07\n",
              "2021-10-05  49252.59  ...                  3.206130e+07\n",
              "...              ...  ...                           ...\n",
              "2021-12-27  50815.82  ...                  2.114042e+07\n",
              "2021-12-28  50714.51  ...                  3.781816e+07\n",
              "2021-12-29  47559.26  ...                  2.515863e+07\n",
              "2021-12-30  46472.42  ...                  2.213392e+07\n",
              "2021-12-31  47125.88  ...                  3.614181e+07\n",
              "\n",
              "[92 rows x 10 columns]"
            ]
          },
          "metadata": {},
          "execution_count": 43
        }
      ]
    },
    {
      "cell_type": "code",
      "source": [
        "x = len(df)-12\n",
        "x"
      ],
      "metadata": {
        "colab": {
          "base_uri": "https://localhost:8080/"
        },
        "id": "YkXUmTlcP4iW",
        "outputId": "5ab674ce-5c73-4fb6-ffba-41c80f9344ea"
      },
      "execution_count": null,
      "outputs": [
        {
          "output_type": "execute_result",
          "data": {
            "text/plain": [
              "80"
            ]
          },
          "metadata": {},
          "execution_count": 51
        }
      ]
    },
    {
      "cell_type": "code",
      "source": [
        "train = df[:x]\n",
        "test = df[x:]"
      ],
      "metadata": {
        "id": "xOvaFKI9QJFF"
      },
      "execution_count": null,
      "outputs": []
    },
    {
      "cell_type": "code",
      "source": [
        "train.shape"
      ],
      "metadata": {
        "colab": {
          "base_uri": "https://localhost:8080/"
        },
        "id": "3mME0zdaQSnQ",
        "outputId": "29fcafe3-e3e6-43c5-d09a-81c295773e0b"
      },
      "execution_count": null,
      "outputs": [
        {
          "output_type": "execute_result",
          "data": {
            "text/plain": [
              "(80, 10)"
            ]
          },
          "metadata": {},
          "execution_count": 53
        }
      ]
    },
    {
      "cell_type": "code",
      "source": [
        "lr = LinearRegression()\n",
        " \n",
        "X_train = train[[\"High\", \"Low\", \"Close\", \"Volume\", \"Quote asset volume\", \"Number of trades\", \"Taker buy base asset volume\", \"Taker buy quote asset volume\"]]\n",
        " \n",
        "Y_train = train[\"Open\"]\n",
        " \n",
        "lr.fit(X_train,Y_train)"
      ],
      "metadata": {
        "colab": {
          "base_uri": "https://localhost:8080/"
        },
        "id": "a8ap3rgnQXaO",
        "outputId": "5cc97cf2-1011-4b7e-805c-aae944346f1a"
      },
      "execution_count": null,
      "outputs": [
        {
          "output_type": "execute_result",
          "data": {
            "text/plain": [
              "LinearRegression()"
            ]
          },
          "metadata": {},
          "execution_count": 54
        }
      ]
    },
    {
      "cell_type": "code",
      "source": [
        "X_test = test[[\"High\", \"Low\", \"Close\", \"Volume\", \"Quote asset volume\", \"Number of trades\", \"Taker buy base asset volume\", \"Taker buy quote asset volume\"]]\n",
        "Y_test = test[\"Open\"]"
      ],
      "metadata": {
        "id": "hjL2AUNVRKi-"
      },
      "execution_count": null,
      "outputs": []
    },
    {
      "cell_type": "code",
      "source": [
        "open_predictions = lr.predict(X_test)"
      ],
      "metadata": {
        "id": "-4WmmEiqRajf"
      },
      "execution_count": null,
      "outputs": []
    },
    {
      "cell_type": "code",
      "source": [
        "mae = sum(abs(open_predictions - test[\"Open\"].values)) / test.shape[0]\n",
        "\n",
        "print(mae)"
      ],
      "metadata": {
        "colab": {
          "base_uri": "https://localhost:8080/"
        },
        "id": "nxIvHaN5RiQs",
        "outputId": "900f0985-6330-477c-af26-7b3e390cf7a3"
      },
      "execution_count": null,
      "outputs": [
        {
          "output_type": "stream",
          "name": "stdout",
          "text": [
            "537.3894935854163\n"
          ]
        }
      ]
    },
    {
      "cell_type": "code",
      "source": [
        "dates = test.index\n",
        "df = pd.DataFrame({'Date':dates,'Actual': Y_test, 'Predicted': open_predictions})\n",
        " \n",
        "# set the date with string format for plotting\n",
        "df1['Date'] = df1['Date'].dt.strftime('%Y-%m-%d')\n",
        " \n",
        "df1.set_index('Date',inplace=True)"
      ],
      "metadata": {
        "colab": {
          "base_uri": "https://localhost:8080/",
          "height": 571
        },
        "id": "MmeRaFRcRyXj",
        "outputId": "fe2f2514-835c-4cae-c60f-af4fd0ec89e6"
      },
      "execution_count": null,
      "outputs": [
        {
          "output_type": "error",
          "ename": "KeyError",
          "evalue": "ignored",
          "traceback": [
            "\u001b[0;31m---------------------------------------------------------------------------\u001b[0m",
            "\u001b[0;31mKeyError\u001b[0m                                  Traceback (most recent call last)",
            "\u001b[0;32m/usr/local/lib/python3.7/dist-packages/pandas/core/indexes/base.py\u001b[0m in \u001b[0;36mget_loc\u001b[0;34m(self, key, method, tolerance)\u001b[0m\n\u001b[1;32m   2897\u001b[0m             \u001b[0;32mtry\u001b[0m\u001b[0;34m:\u001b[0m\u001b[0;34m\u001b[0m\u001b[0;34m\u001b[0m\u001b[0m\n\u001b[0;32m-> 2898\u001b[0;31m                 \u001b[0;32mreturn\u001b[0m \u001b[0mself\u001b[0m\u001b[0;34m.\u001b[0m\u001b[0m_engine\u001b[0m\u001b[0;34m.\u001b[0m\u001b[0mget_loc\u001b[0m\u001b[0;34m(\u001b[0m\u001b[0mcasted_key\u001b[0m\u001b[0;34m)\u001b[0m\u001b[0;34m\u001b[0m\u001b[0;34m\u001b[0m\u001b[0m\n\u001b[0m\u001b[1;32m   2899\u001b[0m             \u001b[0;32mexcept\u001b[0m \u001b[0mKeyError\u001b[0m \u001b[0;32mas\u001b[0m \u001b[0merr\u001b[0m\u001b[0;34m:\u001b[0m\u001b[0;34m\u001b[0m\u001b[0;34m\u001b[0m\u001b[0m\n",
            "\u001b[0;32mpandas/_libs/index.pyx\u001b[0m in \u001b[0;36mpandas._libs.index.IndexEngine.get_loc\u001b[0;34m()\u001b[0m\n",
            "\u001b[0;32mpandas/_libs/index.pyx\u001b[0m in \u001b[0;36mpandas._libs.index.IndexEngine.get_loc\u001b[0;34m()\u001b[0m\n",
            "\u001b[0;32mpandas/_libs/hashtable_class_helper.pxi\u001b[0m in \u001b[0;36mpandas._libs.hashtable.PyObjectHashTable.get_item\u001b[0;34m()\u001b[0m\n",
            "\u001b[0;32mpandas/_libs/hashtable_class_helper.pxi\u001b[0m in \u001b[0;36mpandas._libs.hashtable.PyObjectHashTable.get_item\u001b[0;34m()\u001b[0m\n",
            "\u001b[0;31mKeyError\u001b[0m: 'Date'",
            "\nThe above exception was the direct cause of the following exception:\n",
            "\u001b[0;31mKeyError\u001b[0m                                  Traceback (most recent call last)",
            "\u001b[0;32m<ipython-input-59-70b3ce209b1c>\u001b[0m in \u001b[0;36m<module>\u001b[0;34m()\u001b[0m\n\u001b[1;32m      3\u001b[0m \u001b[0;34m\u001b[0m\u001b[0m\n\u001b[1;32m      4\u001b[0m \u001b[0;31m# set the date with string format for plotting\u001b[0m\u001b[0;34m\u001b[0m\u001b[0;34m\u001b[0m\u001b[0;34m\u001b[0m\u001b[0m\n\u001b[0;32m----> 5\u001b[0;31m \u001b[0mdf1\u001b[0m\u001b[0;34m[\u001b[0m\u001b[0;34m'Date'\u001b[0m\u001b[0;34m]\u001b[0m \u001b[0;34m=\u001b[0m \u001b[0mdf1\u001b[0m\u001b[0;34m[\u001b[0m\u001b[0;34m'Date'\u001b[0m\u001b[0;34m]\u001b[0m\u001b[0;34m.\u001b[0m\u001b[0mdt\u001b[0m\u001b[0;34m.\u001b[0m\u001b[0mstrftime\u001b[0m\u001b[0;34m(\u001b[0m\u001b[0;34m'%Y-%m-%d'\u001b[0m\u001b[0;34m)\u001b[0m\u001b[0;34m\u001b[0m\u001b[0;34m\u001b[0m\u001b[0m\n\u001b[0m\u001b[1;32m      6\u001b[0m \u001b[0;34m\u001b[0m\u001b[0m\n\u001b[1;32m      7\u001b[0m \u001b[0mdf1\u001b[0m\u001b[0;34m.\u001b[0m\u001b[0mset_index\u001b[0m\u001b[0;34m(\u001b[0m\u001b[0;34m'Date'\u001b[0m\u001b[0;34m,\u001b[0m\u001b[0minplace\u001b[0m\u001b[0;34m=\u001b[0m\u001b[0;32mTrue\u001b[0m\u001b[0;34m)\u001b[0m\u001b[0;34m\u001b[0m\u001b[0;34m\u001b[0m\u001b[0m\n",
            "\u001b[0;32m/usr/local/lib/python3.7/dist-packages/pandas/core/frame.py\u001b[0m in \u001b[0;36m__getitem__\u001b[0;34m(self, key)\u001b[0m\n\u001b[1;32m   2904\u001b[0m             \u001b[0;32mif\u001b[0m \u001b[0mself\u001b[0m\u001b[0;34m.\u001b[0m\u001b[0mcolumns\u001b[0m\u001b[0;34m.\u001b[0m\u001b[0mnlevels\u001b[0m \u001b[0;34m>\u001b[0m \u001b[0;36m1\u001b[0m\u001b[0;34m:\u001b[0m\u001b[0;34m\u001b[0m\u001b[0;34m\u001b[0m\u001b[0m\n\u001b[1;32m   2905\u001b[0m                 \u001b[0;32mreturn\u001b[0m \u001b[0mself\u001b[0m\u001b[0;34m.\u001b[0m\u001b[0m_getitem_multilevel\u001b[0m\u001b[0;34m(\u001b[0m\u001b[0mkey\u001b[0m\u001b[0;34m)\u001b[0m\u001b[0;34m\u001b[0m\u001b[0;34m\u001b[0m\u001b[0m\n\u001b[0;32m-> 2906\u001b[0;31m             \u001b[0mindexer\u001b[0m \u001b[0;34m=\u001b[0m \u001b[0mself\u001b[0m\u001b[0;34m.\u001b[0m\u001b[0mcolumns\u001b[0m\u001b[0;34m.\u001b[0m\u001b[0mget_loc\u001b[0m\u001b[0;34m(\u001b[0m\u001b[0mkey\u001b[0m\u001b[0;34m)\u001b[0m\u001b[0;34m\u001b[0m\u001b[0;34m\u001b[0m\u001b[0m\n\u001b[0m\u001b[1;32m   2907\u001b[0m             \u001b[0;32mif\u001b[0m \u001b[0mis_integer\u001b[0m\u001b[0;34m(\u001b[0m\u001b[0mindexer\u001b[0m\u001b[0;34m)\u001b[0m\u001b[0;34m:\u001b[0m\u001b[0;34m\u001b[0m\u001b[0;34m\u001b[0m\u001b[0m\n\u001b[1;32m   2908\u001b[0m                 \u001b[0mindexer\u001b[0m \u001b[0;34m=\u001b[0m \u001b[0;34m[\u001b[0m\u001b[0mindexer\u001b[0m\u001b[0;34m]\u001b[0m\u001b[0;34m\u001b[0m\u001b[0;34m\u001b[0m\u001b[0m\n",
            "\u001b[0;32m/usr/local/lib/python3.7/dist-packages/pandas/core/indexes/base.py\u001b[0m in \u001b[0;36mget_loc\u001b[0;34m(self, key, method, tolerance)\u001b[0m\n\u001b[1;32m   2898\u001b[0m                 \u001b[0;32mreturn\u001b[0m \u001b[0mself\u001b[0m\u001b[0;34m.\u001b[0m\u001b[0m_engine\u001b[0m\u001b[0;34m.\u001b[0m\u001b[0mget_loc\u001b[0m\u001b[0;34m(\u001b[0m\u001b[0mcasted_key\u001b[0m\u001b[0;34m)\u001b[0m\u001b[0;34m\u001b[0m\u001b[0;34m\u001b[0m\u001b[0m\n\u001b[1;32m   2899\u001b[0m             \u001b[0;32mexcept\u001b[0m \u001b[0mKeyError\u001b[0m \u001b[0;32mas\u001b[0m \u001b[0merr\u001b[0m\u001b[0;34m:\u001b[0m\u001b[0;34m\u001b[0m\u001b[0;34m\u001b[0m\u001b[0m\n\u001b[0;32m-> 2900\u001b[0;31m                 \u001b[0;32mraise\u001b[0m \u001b[0mKeyError\u001b[0m\u001b[0;34m(\u001b[0m\u001b[0mkey\u001b[0m\u001b[0;34m)\u001b[0m \u001b[0;32mfrom\u001b[0m \u001b[0merr\u001b[0m\u001b[0;34m\u001b[0m\u001b[0;34m\u001b[0m\u001b[0m\n\u001b[0m\u001b[1;32m   2901\u001b[0m \u001b[0;34m\u001b[0m\u001b[0m\n\u001b[1;32m   2902\u001b[0m         \u001b[0;32mif\u001b[0m \u001b[0mtolerance\u001b[0m \u001b[0;32mis\u001b[0m \u001b[0;32mnot\u001b[0m \u001b[0;32mNone\u001b[0m\u001b[0;34m:\u001b[0m\u001b[0;34m\u001b[0m\u001b[0;34m\u001b[0m\u001b[0m\n",
            "\u001b[0;31mKeyError\u001b[0m: 'Date'"
          ]
        }
      ]
    },
    {
      "cell_type": "code",
      "source": [
        "df"
      ],
      "metadata": {
        "colab": {
          "base_uri": "https://localhost:8080/",
          "height": 457
        },
        "id": "WAMLcwtBSKm0",
        "outputId": "f21f4c60-c90f-4897-d8d1-4fb042fc9067"
      },
      "execution_count": null,
      "outputs": [
        {
          "output_type": "execute_result",
          "data": {
            "text/html": [
              "\n",
              "  <div id=\"df-118d4658-70cf-4531-93da-be326bbe4eaa\">\n",
              "    <div class=\"colab-df-container\">\n",
              "      <div>\n",
              "<style scoped>\n",
              "    .dataframe tbody tr th:only-of-type {\n",
              "        vertical-align: middle;\n",
              "    }\n",
              "\n",
              "    .dataframe tbody tr th {\n",
              "        vertical-align: top;\n",
              "    }\n",
              "\n",
              "    .dataframe thead th {\n",
              "        text-align: right;\n",
              "    }\n",
              "</style>\n",
              "<table border=\"1\" class=\"dataframe\">\n",
              "  <thead>\n",
              "    <tr style=\"text-align: right;\">\n",
              "      <th></th>\n",
              "      <th>Date</th>\n",
              "      <th>Actual</th>\n",
              "      <th>Predicted</th>\n",
              "    </tr>\n",
              "    <tr>\n",
              "      <th>Open time</th>\n",
              "      <th></th>\n",
              "      <th></th>\n",
              "      <th></th>\n",
              "    </tr>\n",
              "  </thead>\n",
              "  <tbody>\n",
              "    <tr>\n",
              "      <th>2021-12-20</th>\n",
              "      <td>2021-12-20</td>\n",
              "      <td>46684.54</td>\n",
              "      <td>46138.946578</td>\n",
              "    </tr>\n",
              "    <tr>\n",
              "      <th>2021-12-21</th>\n",
              "      <td>2021-12-21</td>\n",
              "      <td>46922.77</td>\n",
              "      <td>47157.464299</td>\n",
              "    </tr>\n",
              "    <tr>\n",
              "      <th>2021-12-22</th>\n",
              "      <td>2021-12-22</td>\n",
              "      <td>48903.46</td>\n",
              "      <td>48195.998295</td>\n",
              "    </tr>\n",
              "    <tr>\n",
              "      <th>2021-12-23</th>\n",
              "      <td>2021-12-23</td>\n",
              "      <td>48614.45</td>\n",
              "      <td>48849.722374</td>\n",
              "    </tr>\n",
              "    <tr>\n",
              "      <th>2021-12-24</th>\n",
              "      <td>2021-12-24</td>\n",
              "      <td>50853.25</td>\n",
              "      <td>51247.554421</td>\n",
              "    </tr>\n",
              "    <tr>\n",
              "      <th>2021-12-25</th>\n",
              "      <td>2021-12-25</td>\n",
              "      <td>50844.76</td>\n",
              "      <td>49841.121675</td>\n",
              "    </tr>\n",
              "    <tr>\n",
              "      <th>2021-12-26</th>\n",
              "      <td>2021-12-26</td>\n",
              "      <td>50425.88</td>\n",
              "      <td>49526.160104</td>\n",
              "    </tr>\n",
              "    <tr>\n",
              "      <th>2021-12-27</th>\n",
              "      <td>2021-12-27</td>\n",
              "      <td>50815.82</td>\n",
              "      <td>51189.670438</td>\n",
              "    </tr>\n",
              "    <tr>\n",
              "      <th>2021-12-28</th>\n",
              "      <td>2021-12-28</td>\n",
              "      <td>50714.51</td>\n",
              "      <td>51479.455746</td>\n",
              "    </tr>\n",
              "    <tr>\n",
              "      <th>2021-12-29</th>\n",
              "      <td>2021-12-29</td>\n",
              "      <td>47559.26</td>\n",
              "      <td>46821.381650</td>\n",
              "    </tr>\n",
              "    <tr>\n",
              "      <th>2021-12-30</th>\n",
              "      <td>2021-12-30</td>\n",
              "      <td>46472.42</td>\n",
              "      <td>46087.214801</td>\n",
              "    </tr>\n",
              "    <tr>\n",
              "      <th>2021-12-31</th>\n",
              "      <td>2021-12-31</td>\n",
              "      <td>47125.88</td>\n",
              "      <td>47291.989748</td>\n",
              "    </tr>\n",
              "  </tbody>\n",
              "</table>\n",
              "</div>\n",
              "      <button class=\"colab-df-convert\" onclick=\"convertToInteractive('df-118d4658-70cf-4531-93da-be326bbe4eaa')\"\n",
              "              title=\"Convert this dataframe to an interactive table.\"\n",
              "              style=\"display:none;\">\n",
              "        \n",
              "  <svg xmlns=\"http://www.w3.org/2000/svg\" height=\"24px\"viewBox=\"0 0 24 24\"\n",
              "       width=\"24px\">\n",
              "    <path d=\"M0 0h24v24H0V0z\" fill=\"none\"/>\n",
              "    <path d=\"M18.56 5.44l.94 2.06.94-2.06 2.06-.94-2.06-.94-.94-2.06-.94 2.06-2.06.94zm-11 1L8.5 8.5l.94-2.06 2.06-.94-2.06-.94L8.5 2.5l-.94 2.06-2.06.94zm10 10l.94 2.06.94-2.06 2.06-.94-2.06-.94-.94-2.06-.94 2.06-2.06.94z\"/><path d=\"M17.41 7.96l-1.37-1.37c-.4-.4-.92-.59-1.43-.59-.52 0-1.04.2-1.43.59L10.3 9.45l-7.72 7.72c-.78.78-.78 2.05 0 2.83L4 21.41c.39.39.9.59 1.41.59.51 0 1.02-.2 1.41-.59l7.78-7.78 2.81-2.81c.8-.78.8-2.07 0-2.86zM5.41 20L4 18.59l7.72-7.72 1.47 1.35L5.41 20z\"/>\n",
              "  </svg>\n",
              "      </button>\n",
              "      \n",
              "  <style>\n",
              "    .colab-df-container {\n",
              "      display:flex;\n",
              "      flex-wrap:wrap;\n",
              "      gap: 12px;\n",
              "    }\n",
              "\n",
              "    .colab-df-convert {\n",
              "      background-color: #E8F0FE;\n",
              "      border: none;\n",
              "      border-radius: 50%;\n",
              "      cursor: pointer;\n",
              "      display: none;\n",
              "      fill: #1967D2;\n",
              "      height: 32px;\n",
              "      padding: 0 0 0 0;\n",
              "      width: 32px;\n",
              "    }\n",
              "\n",
              "    .colab-df-convert:hover {\n",
              "      background-color: #E2EBFA;\n",
              "      box-shadow: 0px 1px 2px rgba(60, 64, 67, 0.3), 0px 1px 3px 1px rgba(60, 64, 67, 0.15);\n",
              "      fill: #174EA6;\n",
              "    }\n",
              "\n",
              "    [theme=dark] .colab-df-convert {\n",
              "      background-color: #3B4455;\n",
              "      fill: #D2E3FC;\n",
              "    }\n",
              "\n",
              "    [theme=dark] .colab-df-convert:hover {\n",
              "      background-color: #434B5C;\n",
              "      box-shadow: 0px 1px 3px 1px rgba(0, 0, 0, 0.15);\n",
              "      filter: drop-shadow(0px 1px 2px rgba(0, 0, 0, 0.3));\n",
              "      fill: #FFFFFF;\n",
              "    }\n",
              "  </style>\n",
              "\n",
              "      <script>\n",
              "        const buttonEl =\n",
              "          document.querySelector('#df-118d4658-70cf-4531-93da-be326bbe4eaa button.colab-df-convert');\n",
              "        buttonEl.style.display =\n",
              "          google.colab.kernel.accessAllowed ? 'block' : 'none';\n",
              "\n",
              "        async function convertToInteractive(key) {\n",
              "          const element = document.querySelector('#df-118d4658-70cf-4531-93da-be326bbe4eaa');\n",
              "          const dataTable =\n",
              "            await google.colab.kernel.invokeFunction('convertToInteractive',\n",
              "                                                     [key], {});\n",
              "          if (!dataTable) return;\n",
              "\n",
              "          const docLinkHtml = 'Like what you see? Visit the ' +\n",
              "            '<a target=\"_blank\" href=https://colab.research.google.com/notebooks/data_table.ipynb>data table notebook</a>'\n",
              "            + ' to learn more about interactive tables.';\n",
              "          element.innerHTML = '';\n",
              "          dataTable['output_type'] = 'display_data';\n",
              "          await google.colab.output.renderOutput(dataTable, element);\n",
              "          const docLink = document.createElement('div');\n",
              "          docLink.innerHTML = docLinkHtml;\n",
              "          element.appendChild(docLink);\n",
              "        }\n",
              "      </script>\n",
              "    </div>\n",
              "  </div>\n",
              "  "
            ],
            "text/plain": [
              "                 Date    Actual     Predicted\n",
              "Open time                                    \n",
              "2021-12-20 2021-12-20  46684.54  46138.946578\n",
              "2021-12-21 2021-12-21  46922.77  47157.464299\n",
              "2021-12-22 2021-12-22  48903.46  48195.998295\n",
              "2021-12-23 2021-12-23  48614.45  48849.722374\n",
              "2021-12-24 2021-12-24  50853.25  51247.554421\n",
              "2021-12-25 2021-12-25  50844.76  49841.121675\n",
              "2021-12-26 2021-12-26  50425.88  49526.160104\n",
              "2021-12-27 2021-12-27  50815.82  51189.670438\n",
              "2021-12-28 2021-12-28  50714.51  51479.455746\n",
              "2021-12-29 2021-12-29  47559.26  46821.381650\n",
              "2021-12-30 2021-12-30  46472.42  46087.214801\n",
              "2021-12-31 2021-12-31  47125.88  47291.989748"
            ]
          },
          "metadata": {},
          "execution_count": 61
        }
      ]
    }
  ]
}